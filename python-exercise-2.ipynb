{
 "cells": [
  {
   "cell_type": "markdown",
   "id": "8d6a036b",
   "metadata": {
    "papermill": {
     "duration": 0.009129,
     "end_time": "2024-08-16T10:35:49.889968",
     "exception": false,
     "start_time": "2024-08-16T10:35:49.880839",
     "status": "completed"
    },
    "tags": []
   },
   "source": [
    "# US - Baby Names"
   ]
  },
  {
   "cell_type": "markdown",
   "id": "a449c7b1",
   "metadata": {
    "papermill": {
     "duration": 0.007806,
     "end_time": "2024-08-16T10:35:49.906427",
     "exception": false,
     "start_time": "2024-08-16T10:35:49.898621",
     "status": "completed"
    },
    "tags": []
   },
   "source": [
    "### Introduction:\n",
    "\n",
    "We are going to use a subset of [US Baby Names](https://www.kaggle.com/kaggle/us-baby-names) from Kaggle.  \n",
    "In the file it will be names from 2004 until 2014\n",
    "\n",
    "\n",
    "### Step 1. Import the necessary libraries"
   ]
  },
  {
   "cell_type": "code",
   "execution_count": 1,
   "id": "d0d1e9eb",
   "metadata": {
    "collapsed": false,
    "execution": {
     "iopub.execute_input": "2024-08-16T10:35:49.926100Z",
     "iopub.status.busy": "2024-08-16T10:35:49.925649Z",
     "iopub.status.idle": "2024-08-16T10:35:50.883919Z",
     "shell.execute_reply": "2024-08-16T10:35:50.882876Z"
    },
    "jupyter": {
     "outputs_hidden": false
    },
    "papermill": {
     "duration": 0.971628,
     "end_time": "2024-08-16T10:35:50.886407",
     "exception": false,
     "start_time": "2024-08-16T10:35:49.914779",
     "status": "completed"
    },
    "tags": []
   },
   "outputs": [],
   "source": [
    "import pandas as pd"
   ]
  },
  {
   "cell_type": "markdown",
   "id": "8cf10e07",
   "metadata": {
    "papermill": {
     "duration": 0.007379,
     "end_time": "2024-08-16T10:35:50.901870",
     "exception": false,
     "start_time": "2024-08-16T10:35:50.894491",
     "status": "completed"
    },
    "tags": []
   },
   "source": [
    "### Step 2. Import the dataset from this [address](https://raw.githubusercontent.com/guipsamora/pandas_exercises/master/06_Stats/US_Baby_Names/US_Baby_Names_right.csv). "
   ]
  },
  {
   "cell_type": "markdown",
   "id": "1f383b52",
   "metadata": {
    "papermill": {
     "duration": 0.007343,
     "end_time": "2024-08-16T10:35:50.916974",
     "exception": false,
     "start_time": "2024-08-16T10:35:50.909631",
     "status": "completed"
    },
    "tags": []
   },
   "source": [
    "### Step 3. Assign it to a variable called baby_names."
   ]
  },
  {
   "cell_type": "code",
   "execution_count": 2,
   "id": "5797afa7",
   "metadata": {
    "collapsed": false,
    "execution": {
     "iopub.execute_input": "2024-08-16T10:35:50.933865Z",
     "iopub.status.busy": "2024-08-16T10:35:50.933357Z",
     "iopub.status.idle": "2024-08-16T10:35:52.127050Z",
     "shell.execute_reply": "2024-08-16T10:35:52.126059Z"
    },
    "jupyter": {
     "outputs_hidden": false
    },
    "papermill": {
     "duration": 1.204755,
     "end_time": "2024-08-16T10:35:52.129339",
     "exception": false,
     "start_time": "2024-08-16T10:35:50.924584",
     "status": "completed"
    },
    "tags": []
   },
   "outputs": [
    {
     "data": {
      "text/html": [
       "<div>\n",
       "<style scoped>\n",
       "    .dataframe tbody tr th:only-of-type {\n",
       "        vertical-align: middle;\n",
       "    }\n",
       "\n",
       "    .dataframe tbody tr th {\n",
       "        vertical-align: top;\n",
       "    }\n",
       "\n",
       "    .dataframe thead th {\n",
       "        text-align: right;\n",
       "    }\n",
       "</style>\n",
       "<table border=\"1\" class=\"dataframe\">\n",
       "  <thead>\n",
       "    <tr style=\"text-align: right;\">\n",
       "      <th></th>\n",
       "      <th>Unnamed: 0</th>\n",
       "      <th>Id</th>\n",
       "      <th>Name</th>\n",
       "      <th>Year</th>\n",
       "      <th>Gender</th>\n",
       "      <th>State</th>\n",
       "      <th>Count</th>\n",
       "    </tr>\n",
       "  </thead>\n",
       "  <tbody>\n",
       "    <tr>\n",
       "      <th>0</th>\n",
       "      <td>11349</td>\n",
       "      <td>11350</td>\n",
       "      <td>Emma</td>\n",
       "      <td>2004</td>\n",
       "      <td>F</td>\n",
       "      <td>AK</td>\n",
       "      <td>62</td>\n",
       "    </tr>\n",
       "    <tr>\n",
       "      <th>1</th>\n",
       "      <td>11350</td>\n",
       "      <td>11351</td>\n",
       "      <td>Madison</td>\n",
       "      <td>2004</td>\n",
       "      <td>F</td>\n",
       "      <td>AK</td>\n",
       "      <td>48</td>\n",
       "    </tr>\n",
       "    <tr>\n",
       "      <th>2</th>\n",
       "      <td>11351</td>\n",
       "      <td>11352</td>\n",
       "      <td>Hannah</td>\n",
       "      <td>2004</td>\n",
       "      <td>F</td>\n",
       "      <td>AK</td>\n",
       "      <td>46</td>\n",
       "    </tr>\n",
       "    <tr>\n",
       "      <th>3</th>\n",
       "      <td>11352</td>\n",
       "      <td>11353</td>\n",
       "      <td>Grace</td>\n",
       "      <td>2004</td>\n",
       "      <td>F</td>\n",
       "      <td>AK</td>\n",
       "      <td>44</td>\n",
       "    </tr>\n",
       "    <tr>\n",
       "      <th>4</th>\n",
       "      <td>11353</td>\n",
       "      <td>11354</td>\n",
       "      <td>Emily</td>\n",
       "      <td>2004</td>\n",
       "      <td>F</td>\n",
       "      <td>AK</td>\n",
       "      <td>41</td>\n",
       "    </tr>\n",
       "    <tr>\n",
       "      <th>...</th>\n",
       "      <td>...</td>\n",
       "      <td>...</td>\n",
       "      <td>...</td>\n",
       "      <td>...</td>\n",
       "      <td>...</td>\n",
       "      <td>...</td>\n",
       "      <td>...</td>\n",
       "    </tr>\n",
       "    <tr>\n",
       "      <th>1016390</th>\n",
       "      <td>5647421</td>\n",
       "      <td>5647422</td>\n",
       "      <td>Seth</td>\n",
       "      <td>2014</td>\n",
       "      <td>M</td>\n",
       "      <td>WY</td>\n",
       "      <td>5</td>\n",
       "    </tr>\n",
       "    <tr>\n",
       "      <th>1016391</th>\n",
       "      <td>5647422</td>\n",
       "      <td>5647423</td>\n",
       "      <td>Spencer</td>\n",
       "      <td>2014</td>\n",
       "      <td>M</td>\n",
       "      <td>WY</td>\n",
       "      <td>5</td>\n",
       "    </tr>\n",
       "    <tr>\n",
       "      <th>1016392</th>\n",
       "      <td>5647423</td>\n",
       "      <td>5647424</td>\n",
       "      <td>Tyce</td>\n",
       "      <td>2014</td>\n",
       "      <td>M</td>\n",
       "      <td>WY</td>\n",
       "      <td>5</td>\n",
       "    </tr>\n",
       "    <tr>\n",
       "      <th>1016393</th>\n",
       "      <td>5647424</td>\n",
       "      <td>5647425</td>\n",
       "      <td>Victor</td>\n",
       "      <td>2014</td>\n",
       "      <td>M</td>\n",
       "      <td>WY</td>\n",
       "      <td>5</td>\n",
       "    </tr>\n",
       "    <tr>\n",
       "      <th>1016394</th>\n",
       "      <td>5647425</td>\n",
       "      <td>5647426</td>\n",
       "      <td>Waylon</td>\n",
       "      <td>2014</td>\n",
       "      <td>M</td>\n",
       "      <td>WY</td>\n",
       "      <td>5</td>\n",
       "    </tr>\n",
       "  </tbody>\n",
       "</table>\n",
       "<p>1016395 rows × 7 columns</p>\n",
       "</div>"
      ],
      "text/plain": [
       "         Unnamed: 0       Id     Name  Year Gender State  Count\n",
       "0             11349    11350     Emma  2004      F    AK     62\n",
       "1             11350    11351  Madison  2004      F    AK     48\n",
       "2             11351    11352   Hannah  2004      F    AK     46\n",
       "3             11352    11353    Grace  2004      F    AK     44\n",
       "4             11353    11354    Emily  2004      F    AK     41\n",
       "...             ...      ...      ...   ...    ...   ...    ...\n",
       "1016390     5647421  5647422     Seth  2014      M    WY      5\n",
       "1016391     5647422  5647423  Spencer  2014      M    WY      5\n",
       "1016392     5647423  5647424     Tyce  2014      M    WY      5\n",
       "1016393     5647424  5647425   Victor  2014      M    WY      5\n",
       "1016394     5647425  5647426   Waylon  2014      M    WY      5\n",
       "\n",
       "[1016395 rows x 7 columns]"
      ]
     },
     "execution_count": 2,
     "metadata": {},
     "output_type": "execute_result"
    }
   ],
   "source": [
    "df = pd.read_csv('/kaggle/input/us-baby-names/US_Baby_Names_right.csv')\n",
    "df"
   ]
  },
  {
   "cell_type": "code",
   "execution_count": 3,
   "id": "6280b324",
   "metadata": {
    "execution": {
     "iopub.execute_input": "2024-08-16T10:35:52.147194Z",
     "iopub.status.busy": "2024-08-16T10:35:52.146810Z",
     "iopub.status.idle": "2024-08-16T10:35:52.325621Z",
     "shell.execute_reply": "2024-08-16T10:35:52.324554Z"
    },
    "papermill": {
     "duration": 0.190734,
     "end_time": "2024-08-16T10:35:52.328227",
     "exception": false,
     "start_time": "2024-08-16T10:35:52.137493",
     "status": "completed"
    },
    "tags": []
   },
   "outputs": [
    {
     "name": "stdout",
     "output_type": "stream",
     "text": [
      "<class 'pandas.core.frame.DataFrame'>\n",
      "RangeIndex: 1016395 entries, 0 to 1016394\n",
      "Data columns (total 7 columns):\n",
      " #   Column      Non-Null Count    Dtype \n",
      "---  ------      --------------    ----- \n",
      " 0   Unnamed: 0  1016395 non-null  int64 \n",
      " 1   Id          1016395 non-null  int64 \n",
      " 2   Name        1016395 non-null  object\n",
      " 3   Year        1016395 non-null  int64 \n",
      " 4   Gender      1016395 non-null  object\n",
      " 5   State       1016395 non-null  object\n",
      " 6   Count       1016395 non-null  int64 \n",
      "dtypes: int64(4), object(3)\n",
      "memory usage: 54.3+ MB\n"
     ]
    },
    {
     "data": {
      "text/html": [
       "<div>\n",
       "<style scoped>\n",
       "    .dataframe tbody tr th:only-of-type {\n",
       "        vertical-align: middle;\n",
       "    }\n",
       "\n",
       "    .dataframe tbody tr th {\n",
       "        vertical-align: top;\n",
       "    }\n",
       "\n",
       "    .dataframe thead th {\n",
       "        text-align: right;\n",
       "    }\n",
       "</style>\n",
       "<table border=\"1\" class=\"dataframe\">\n",
       "  <thead>\n",
       "    <tr style=\"text-align: right;\">\n",
       "      <th></th>\n",
       "      <th>Unnamed: 0</th>\n",
       "      <th>Id</th>\n",
       "      <th>Name</th>\n",
       "      <th>Year</th>\n",
       "      <th>Gender</th>\n",
       "      <th>State</th>\n",
       "      <th>Count</th>\n",
       "    </tr>\n",
       "  </thead>\n",
       "  <tbody>\n",
       "    <tr>\n",
       "      <th>0</th>\n",
       "      <td>11349</td>\n",
       "      <td>11350</td>\n",
       "      <td>Emma</td>\n",
       "      <td>2004</td>\n",
       "      <td>F</td>\n",
       "      <td>AK</td>\n",
       "      <td>62</td>\n",
       "    </tr>\n",
       "    <tr>\n",
       "      <th>1</th>\n",
       "      <td>11350</td>\n",
       "      <td>11351</td>\n",
       "      <td>Madison</td>\n",
       "      <td>2004</td>\n",
       "      <td>F</td>\n",
       "      <td>AK</td>\n",
       "      <td>48</td>\n",
       "    </tr>\n",
       "    <tr>\n",
       "      <th>2</th>\n",
       "      <td>11351</td>\n",
       "      <td>11352</td>\n",
       "      <td>Hannah</td>\n",
       "      <td>2004</td>\n",
       "      <td>F</td>\n",
       "      <td>AK</td>\n",
       "      <td>46</td>\n",
       "    </tr>\n",
       "    <tr>\n",
       "      <th>3</th>\n",
       "      <td>11352</td>\n",
       "      <td>11353</td>\n",
       "      <td>Grace</td>\n",
       "      <td>2004</td>\n",
       "      <td>F</td>\n",
       "      <td>AK</td>\n",
       "      <td>44</td>\n",
       "    </tr>\n",
       "    <tr>\n",
       "      <th>4</th>\n",
       "      <td>11353</td>\n",
       "      <td>11354</td>\n",
       "      <td>Emily</td>\n",
       "      <td>2004</td>\n",
       "      <td>F</td>\n",
       "      <td>AK</td>\n",
       "      <td>41</td>\n",
       "    </tr>\n",
       "    <tr>\n",
       "      <th>...</th>\n",
       "      <td>...</td>\n",
       "      <td>...</td>\n",
       "      <td>...</td>\n",
       "      <td>...</td>\n",
       "      <td>...</td>\n",
       "      <td>...</td>\n",
       "      <td>...</td>\n",
       "    </tr>\n",
       "    <tr>\n",
       "      <th>1016390</th>\n",
       "      <td>5647421</td>\n",
       "      <td>5647422</td>\n",
       "      <td>Seth</td>\n",
       "      <td>2014</td>\n",
       "      <td>M</td>\n",
       "      <td>WY</td>\n",
       "      <td>5</td>\n",
       "    </tr>\n",
       "    <tr>\n",
       "      <th>1016391</th>\n",
       "      <td>5647422</td>\n",
       "      <td>5647423</td>\n",
       "      <td>Spencer</td>\n",
       "      <td>2014</td>\n",
       "      <td>M</td>\n",
       "      <td>WY</td>\n",
       "      <td>5</td>\n",
       "    </tr>\n",
       "    <tr>\n",
       "      <th>1016392</th>\n",
       "      <td>5647423</td>\n",
       "      <td>5647424</td>\n",
       "      <td>Tyce</td>\n",
       "      <td>2014</td>\n",
       "      <td>M</td>\n",
       "      <td>WY</td>\n",
       "      <td>5</td>\n",
       "    </tr>\n",
       "    <tr>\n",
       "      <th>1016393</th>\n",
       "      <td>5647424</td>\n",
       "      <td>5647425</td>\n",
       "      <td>Victor</td>\n",
       "      <td>2014</td>\n",
       "      <td>M</td>\n",
       "      <td>WY</td>\n",
       "      <td>5</td>\n",
       "    </tr>\n",
       "    <tr>\n",
       "      <th>1016394</th>\n",
       "      <td>5647425</td>\n",
       "      <td>5647426</td>\n",
       "      <td>Waylon</td>\n",
       "      <td>2014</td>\n",
       "      <td>M</td>\n",
       "      <td>WY</td>\n",
       "      <td>5</td>\n",
       "    </tr>\n",
       "  </tbody>\n",
       "</table>\n",
       "<p>1016395 rows × 7 columns</p>\n",
       "</div>"
      ],
      "text/plain": [
       "         Unnamed: 0       Id     Name  Year Gender State  Count\n",
       "0             11349    11350     Emma  2004      F    AK     62\n",
       "1             11350    11351  Madison  2004      F    AK     48\n",
       "2             11351    11352   Hannah  2004      F    AK     46\n",
       "3             11352    11353    Grace  2004      F    AK     44\n",
       "4             11353    11354    Emily  2004      F    AK     41\n",
       "...             ...      ...      ...   ...    ...   ...    ...\n",
       "1016390     5647421  5647422     Seth  2014      M    WY      5\n",
       "1016391     5647422  5647423  Spencer  2014      M    WY      5\n",
       "1016392     5647423  5647424     Tyce  2014      M    WY      5\n",
       "1016393     5647424  5647425   Victor  2014      M    WY      5\n",
       "1016394     5647425  5647426   Waylon  2014      M    WY      5\n",
       "\n",
       "[1016395 rows x 7 columns]"
      ]
     },
     "execution_count": 3,
     "metadata": {},
     "output_type": "execute_result"
    }
   ],
   "source": [
    "df.info()\n",
    "df"
   ]
  },
  {
   "cell_type": "markdown",
   "id": "acf46320",
   "metadata": {
    "papermill": {
     "duration": 0.008223,
     "end_time": "2024-08-16T10:35:52.345788",
     "exception": false,
     "start_time": "2024-08-16T10:35:52.337565",
     "status": "completed"
    },
    "tags": []
   },
   "source": [
    "### Step 4. See the first 10 entries"
   ]
  },
  {
   "cell_type": "code",
   "execution_count": 4,
   "id": "ab885da0",
   "metadata": {
    "collapsed": false,
    "execution": {
     "iopub.execute_input": "2024-08-16T10:35:52.364571Z",
     "iopub.status.busy": "2024-08-16T10:35:52.364166Z",
     "iopub.status.idle": "2024-08-16T10:35:52.377189Z",
     "shell.execute_reply": "2024-08-16T10:35:52.376136Z"
    },
    "jupyter": {
     "outputs_hidden": false
    },
    "papermill": {
     "duration": 0.02514,
     "end_time": "2024-08-16T10:35:52.379421",
     "exception": false,
     "start_time": "2024-08-16T10:35:52.354281",
     "status": "completed"
    },
    "tags": []
   },
   "outputs": [
    {
     "data": {
      "text/html": [
       "<div>\n",
       "<style scoped>\n",
       "    .dataframe tbody tr th:only-of-type {\n",
       "        vertical-align: middle;\n",
       "    }\n",
       "\n",
       "    .dataframe tbody tr th {\n",
       "        vertical-align: top;\n",
       "    }\n",
       "\n",
       "    .dataframe thead th {\n",
       "        text-align: right;\n",
       "    }\n",
       "</style>\n",
       "<table border=\"1\" class=\"dataframe\">\n",
       "  <thead>\n",
       "    <tr style=\"text-align: right;\">\n",
       "      <th></th>\n",
       "      <th>Unnamed: 0</th>\n",
       "      <th>Id</th>\n",
       "      <th>Name</th>\n",
       "      <th>Year</th>\n",
       "      <th>Gender</th>\n",
       "      <th>State</th>\n",
       "      <th>Count</th>\n",
       "    </tr>\n",
       "  </thead>\n",
       "  <tbody>\n",
       "    <tr>\n",
       "      <th>0</th>\n",
       "      <td>11349</td>\n",
       "      <td>11350</td>\n",
       "      <td>Emma</td>\n",
       "      <td>2004</td>\n",
       "      <td>F</td>\n",
       "      <td>AK</td>\n",
       "      <td>62</td>\n",
       "    </tr>\n",
       "    <tr>\n",
       "      <th>1</th>\n",
       "      <td>11350</td>\n",
       "      <td>11351</td>\n",
       "      <td>Madison</td>\n",
       "      <td>2004</td>\n",
       "      <td>F</td>\n",
       "      <td>AK</td>\n",
       "      <td>48</td>\n",
       "    </tr>\n",
       "    <tr>\n",
       "      <th>2</th>\n",
       "      <td>11351</td>\n",
       "      <td>11352</td>\n",
       "      <td>Hannah</td>\n",
       "      <td>2004</td>\n",
       "      <td>F</td>\n",
       "      <td>AK</td>\n",
       "      <td>46</td>\n",
       "    </tr>\n",
       "    <tr>\n",
       "      <th>3</th>\n",
       "      <td>11352</td>\n",
       "      <td>11353</td>\n",
       "      <td>Grace</td>\n",
       "      <td>2004</td>\n",
       "      <td>F</td>\n",
       "      <td>AK</td>\n",
       "      <td>44</td>\n",
       "    </tr>\n",
       "    <tr>\n",
       "      <th>4</th>\n",
       "      <td>11353</td>\n",
       "      <td>11354</td>\n",
       "      <td>Emily</td>\n",
       "      <td>2004</td>\n",
       "      <td>F</td>\n",
       "      <td>AK</td>\n",
       "      <td>41</td>\n",
       "    </tr>\n",
       "    <tr>\n",
       "      <th>5</th>\n",
       "      <td>11354</td>\n",
       "      <td>11355</td>\n",
       "      <td>Abigail</td>\n",
       "      <td>2004</td>\n",
       "      <td>F</td>\n",
       "      <td>AK</td>\n",
       "      <td>37</td>\n",
       "    </tr>\n",
       "    <tr>\n",
       "      <th>6</th>\n",
       "      <td>11355</td>\n",
       "      <td>11356</td>\n",
       "      <td>Olivia</td>\n",
       "      <td>2004</td>\n",
       "      <td>F</td>\n",
       "      <td>AK</td>\n",
       "      <td>33</td>\n",
       "    </tr>\n",
       "    <tr>\n",
       "      <th>7</th>\n",
       "      <td>11356</td>\n",
       "      <td>11357</td>\n",
       "      <td>Isabella</td>\n",
       "      <td>2004</td>\n",
       "      <td>F</td>\n",
       "      <td>AK</td>\n",
       "      <td>30</td>\n",
       "    </tr>\n",
       "    <tr>\n",
       "      <th>8</th>\n",
       "      <td>11357</td>\n",
       "      <td>11358</td>\n",
       "      <td>Alyssa</td>\n",
       "      <td>2004</td>\n",
       "      <td>F</td>\n",
       "      <td>AK</td>\n",
       "      <td>29</td>\n",
       "    </tr>\n",
       "    <tr>\n",
       "      <th>9</th>\n",
       "      <td>11358</td>\n",
       "      <td>11359</td>\n",
       "      <td>Sophia</td>\n",
       "      <td>2004</td>\n",
       "      <td>F</td>\n",
       "      <td>AK</td>\n",
       "      <td>28</td>\n",
       "    </tr>\n",
       "  </tbody>\n",
       "</table>\n",
       "</div>"
      ],
      "text/plain": [
       "   Unnamed: 0     Id      Name  Year Gender State  Count\n",
       "0       11349  11350      Emma  2004      F    AK     62\n",
       "1       11350  11351   Madison  2004      F    AK     48\n",
       "2       11351  11352    Hannah  2004      F    AK     46\n",
       "3       11352  11353     Grace  2004      F    AK     44\n",
       "4       11353  11354     Emily  2004      F    AK     41\n",
       "5       11354  11355   Abigail  2004      F    AK     37\n",
       "6       11355  11356    Olivia  2004      F    AK     33\n",
       "7       11356  11357  Isabella  2004      F    AK     30\n",
       "8       11357  11358    Alyssa  2004      F    AK     29\n",
       "9       11358  11359    Sophia  2004      F    AK     28"
      ]
     },
     "execution_count": 4,
     "metadata": {},
     "output_type": "execute_result"
    }
   ],
   "source": [
    "df.head(10)"
   ]
  },
  {
   "cell_type": "markdown",
   "id": "3e35bbe3",
   "metadata": {
    "papermill": {
     "duration": 0.008536,
     "end_time": "2024-08-16T10:35:52.396695",
     "exception": false,
     "start_time": "2024-08-16T10:35:52.388159",
     "status": "completed"
    },
    "tags": []
   },
   "source": [
    "### Step 5. Delete the column 'Unnamed: 0' and 'Id'"
   ]
  },
  {
   "cell_type": "code",
   "execution_count": 5,
   "id": "11b57d25",
   "metadata": {
    "collapsed": false,
    "execution": {
     "iopub.execute_input": "2024-08-16T10:35:52.415926Z",
     "iopub.status.busy": "2024-08-16T10:35:52.415507Z",
     "iopub.status.idle": "2024-08-16T10:35:52.459215Z",
     "shell.execute_reply": "2024-08-16T10:35:52.458090Z"
    },
    "jupyter": {
     "outputs_hidden": false
    },
    "papermill": {
     "duration": 0.055982,
     "end_time": "2024-08-16T10:35:52.461428",
     "exception": false,
     "start_time": "2024-08-16T10:35:52.405446",
     "status": "completed"
    },
    "tags": []
   },
   "outputs": [
    {
     "data": {
      "text/html": [
       "<div>\n",
       "<style scoped>\n",
       "    .dataframe tbody tr th:only-of-type {\n",
       "        vertical-align: middle;\n",
       "    }\n",
       "\n",
       "    .dataframe tbody tr th {\n",
       "        vertical-align: top;\n",
       "    }\n",
       "\n",
       "    .dataframe thead th {\n",
       "        text-align: right;\n",
       "    }\n",
       "</style>\n",
       "<table border=\"1\" class=\"dataframe\">\n",
       "  <thead>\n",
       "    <tr style=\"text-align: right;\">\n",
       "      <th></th>\n",
       "      <th>Name</th>\n",
       "      <th>Year</th>\n",
       "      <th>Gender</th>\n",
       "      <th>State</th>\n",
       "      <th>Count</th>\n",
       "    </tr>\n",
       "  </thead>\n",
       "  <tbody>\n",
       "    <tr>\n",
       "      <th>0</th>\n",
       "      <td>Emma</td>\n",
       "      <td>2004</td>\n",
       "      <td>F</td>\n",
       "      <td>AK</td>\n",
       "      <td>62</td>\n",
       "    </tr>\n",
       "    <tr>\n",
       "      <th>1</th>\n",
       "      <td>Madison</td>\n",
       "      <td>2004</td>\n",
       "      <td>F</td>\n",
       "      <td>AK</td>\n",
       "      <td>48</td>\n",
       "    </tr>\n",
       "    <tr>\n",
       "      <th>2</th>\n",
       "      <td>Hannah</td>\n",
       "      <td>2004</td>\n",
       "      <td>F</td>\n",
       "      <td>AK</td>\n",
       "      <td>46</td>\n",
       "    </tr>\n",
       "    <tr>\n",
       "      <th>3</th>\n",
       "      <td>Grace</td>\n",
       "      <td>2004</td>\n",
       "      <td>F</td>\n",
       "      <td>AK</td>\n",
       "      <td>44</td>\n",
       "    </tr>\n",
       "    <tr>\n",
       "      <th>4</th>\n",
       "      <td>Emily</td>\n",
       "      <td>2004</td>\n",
       "      <td>F</td>\n",
       "      <td>AK</td>\n",
       "      <td>41</td>\n",
       "    </tr>\n",
       "    <tr>\n",
       "      <th>...</th>\n",
       "      <td>...</td>\n",
       "      <td>...</td>\n",
       "      <td>...</td>\n",
       "      <td>...</td>\n",
       "      <td>...</td>\n",
       "    </tr>\n",
       "    <tr>\n",
       "      <th>1016390</th>\n",
       "      <td>Seth</td>\n",
       "      <td>2014</td>\n",
       "      <td>M</td>\n",
       "      <td>WY</td>\n",
       "      <td>5</td>\n",
       "    </tr>\n",
       "    <tr>\n",
       "      <th>1016391</th>\n",
       "      <td>Spencer</td>\n",
       "      <td>2014</td>\n",
       "      <td>M</td>\n",
       "      <td>WY</td>\n",
       "      <td>5</td>\n",
       "    </tr>\n",
       "    <tr>\n",
       "      <th>1016392</th>\n",
       "      <td>Tyce</td>\n",
       "      <td>2014</td>\n",
       "      <td>M</td>\n",
       "      <td>WY</td>\n",
       "      <td>5</td>\n",
       "    </tr>\n",
       "    <tr>\n",
       "      <th>1016393</th>\n",
       "      <td>Victor</td>\n",
       "      <td>2014</td>\n",
       "      <td>M</td>\n",
       "      <td>WY</td>\n",
       "      <td>5</td>\n",
       "    </tr>\n",
       "    <tr>\n",
       "      <th>1016394</th>\n",
       "      <td>Waylon</td>\n",
       "      <td>2014</td>\n",
       "      <td>M</td>\n",
       "      <td>WY</td>\n",
       "      <td>5</td>\n",
       "    </tr>\n",
       "  </tbody>\n",
       "</table>\n",
       "<p>1016395 rows × 5 columns</p>\n",
       "</div>"
      ],
      "text/plain": [
       "            Name  Year Gender State  Count\n",
       "0           Emma  2004      F    AK     62\n",
       "1        Madison  2004      F    AK     48\n",
       "2         Hannah  2004      F    AK     46\n",
       "3          Grace  2004      F    AK     44\n",
       "4          Emily  2004      F    AK     41\n",
       "...          ...   ...    ...   ...    ...\n",
       "1016390     Seth  2014      M    WY      5\n",
       "1016391  Spencer  2014      M    WY      5\n",
       "1016392     Tyce  2014      M    WY      5\n",
       "1016393   Victor  2014      M    WY      5\n",
       "1016394   Waylon  2014      M    WY      5\n",
       "\n",
       "[1016395 rows x 5 columns]"
      ]
     },
     "execution_count": 5,
     "metadata": {},
     "output_type": "execute_result"
    }
   ],
   "source": [
    "df = df.drop(columns=['Unnamed: 0','Id'])\n",
    "df"
   ]
  },
  {
   "cell_type": "markdown",
   "id": "f3fc799a",
   "metadata": {
    "papermill": {
     "duration": 0.008697,
     "end_time": "2024-08-16T10:35:52.479071",
     "exception": false,
     "start_time": "2024-08-16T10:35:52.470374",
     "status": "completed"
    },
    "tags": []
   },
   "source": [
    "### Step 6. Is there more male or female names in the dataset?"
   ]
  },
  {
   "cell_type": "code",
   "execution_count": 6,
   "id": "71eeef9f",
   "metadata": {
    "execution": {
     "iopub.execute_input": "2024-08-16T10:35:52.499311Z",
     "iopub.status.busy": "2024-08-16T10:35:52.498281Z",
     "iopub.status.idle": "2024-08-16T10:35:52.557720Z",
     "shell.execute_reply": "2024-08-16T10:35:52.556565Z"
    },
    "papermill": {
     "duration": 0.071955,
     "end_time": "2024-08-16T10:35:52.560002",
     "exception": false,
     "start_time": "2024-08-16T10:35:52.488047",
     "status": "completed"
    },
    "tags": []
   },
   "outputs": [
    {
     "name": "stdout",
     "output_type": "stream",
     "text": [
      "There are more Female names in the dataset.\n"
     ]
    }
   ],
   "source": [
    "gender_counts = df['Gender'].value_counts()\n",
    "\n",
    "if gender_counts['M'] > gender_counts['F']:\n",
    "    result = 'Male'\n",
    "elif gender_counts['F'] > gender_counts['M']:\n",
    "    result = 'Female'\n",
    "else:\n",
    "    result = 'Equal'\n",
    "\n",
    "print(f\"There are more {result} names in the dataset.\")"
   ]
  },
  {
   "cell_type": "code",
   "execution_count": 7,
   "id": "d7c995f7",
   "metadata": {
    "execution": {
     "iopub.execute_input": "2024-08-16T10:35:52.581145Z",
     "iopub.status.busy": "2024-08-16T10:35:52.580043Z",
     "iopub.status.idle": "2024-08-16T10:35:52.684087Z",
     "shell.execute_reply": "2024-08-16T10:35:52.682668Z"
    },
    "papermill": {
     "duration": 0.117272,
     "end_time": "2024-08-16T10:35:52.686723",
     "exception": false,
     "start_time": "2024-08-16T10:35:52.569451",
     "status": "completed"
    },
    "tags": []
   },
   "outputs": [
    {
     "data": {
      "text/html": [
       "<div>\n",
       "<style scoped>\n",
       "    .dataframe tbody tr th:only-of-type {\n",
       "        vertical-align: middle;\n",
       "    }\n",
       "\n",
       "    .dataframe tbody tr th {\n",
       "        vertical-align: top;\n",
       "    }\n",
       "\n",
       "    .dataframe thead th {\n",
       "        text-align: right;\n",
       "    }\n",
       "</style>\n",
       "<table border=\"1\" class=\"dataframe\">\n",
       "  <thead>\n",
       "    <tr style=\"text-align: right;\">\n",
       "      <th></th>\n",
       "      <th>Year</th>\n",
       "      <th>Count</th>\n",
       "    </tr>\n",
       "    <tr>\n",
       "      <th>Gender</th>\n",
       "      <th></th>\n",
       "      <th></th>\n",
       "    </tr>\n",
       "  </thead>\n",
       "  <tbody>\n",
       "    <tr>\n",
       "      <th>F</th>\n",
       "      <td>1122736288</td>\n",
       "      <td>16380293</td>\n",
       "    </tr>\n",
       "    <tr>\n",
       "      <th>M</th>\n",
       "      <td>919255329</td>\n",
       "      <td>19041199</td>\n",
       "    </tr>\n",
       "  </tbody>\n",
       "</table>\n",
       "</div>"
      ],
      "text/plain": [
       "              Year     Count\n",
       "Gender                      \n",
       "F       1122736288  16380293\n",
       "M        919255329  19041199"
      ]
     },
     "execution_count": 7,
     "metadata": {},
     "output_type": "execute_result"
    }
   ],
   "source": [
    "df1 = df.groupby(['Gender']).sum(['Count'])\n",
    "df1"
   ]
  },
  {
   "cell_type": "code",
   "execution_count": 8,
   "id": "6597e4cc",
   "metadata": {
    "collapsed": false,
    "execution": {
     "iopub.execute_input": "2024-08-16T10:35:52.708265Z",
     "iopub.status.busy": "2024-08-16T10:35:52.707087Z",
     "iopub.status.idle": "2024-08-16T10:35:52.766582Z",
     "shell.execute_reply": "2024-08-16T10:35:52.765234Z"
    },
    "jupyter": {
     "outputs_hidden": false
    },
    "papermill": {
     "duration": 0.073185,
     "end_time": "2024-08-16T10:35:52.769204",
     "exception": false,
     "start_time": "2024-08-16T10:35:52.696019",
     "status": "completed"
    },
    "tags": []
   },
   "outputs": [
    {
     "name": "stdout",
     "output_type": "stream",
     "text": [
      "Gender\n",
      "F    558846\n",
      "M    457549\n",
      "Name: count, dtype: int64\n"
     ]
    }
   ],
   "source": [
    "gender_count = df['Gender'].value_counts()\n",
    "print(gender_count)"
   ]
  },
  {
   "cell_type": "code",
   "execution_count": 9,
   "id": "46b2e5a7",
   "metadata": {
    "execution": {
     "iopub.execute_input": "2024-08-16T10:35:52.789657Z",
     "iopub.status.busy": "2024-08-16T10:35:52.789273Z",
     "iopub.status.idle": "2024-08-16T10:35:52.849553Z",
     "shell.execute_reply": "2024-08-16T10:35:52.848344Z"
    },
    "papermill": {
     "duration": 0.073286,
     "end_time": "2024-08-16T10:35:52.851911",
     "exception": false,
     "start_time": "2024-08-16T10:35:52.778625",
     "status": "completed"
    },
    "tags": []
   },
   "outputs": [
    {
     "name": "stdout",
     "output_type": "stream",
     "text": [
      "Gender\n",
      "F    558846\n",
      "M    457549\n",
      "Name: count, dtype: int64\n",
      "There are more female names in the dataset.\n"
     ]
    }
   ],
   "source": [
    "gender_count = df['Gender'].value_counts()\n",
    "print(gender_count)\n",
    "\n",
    "if gender_count['F'] > gender_count['M']:\n",
    "    print(\"There are more female names in the dataset.\")\n",
    "elif gender_count['F'] < gender_count['M']:\n",
    "    print(\"There are more male names in the dataset.\")\n",
    "else:\n",
    "    print(\"The number of male and female names in the dataset is equal.\")"
   ]
  },
  {
   "cell_type": "markdown",
   "id": "efad264d",
   "metadata": {
    "papermill": {
     "duration": 0.009564,
     "end_time": "2024-08-16T10:35:52.871674",
     "exception": false,
     "start_time": "2024-08-16T10:35:52.862110",
     "status": "completed"
    },
    "tags": []
   },
   "source": [
    "### Step 7. Group the dataset by name and assign to names"
   ]
  },
  {
   "cell_type": "code",
   "execution_count": 10,
   "id": "cd376ba3",
   "metadata": {
    "collapsed": false,
    "execution": {
     "iopub.execute_input": "2024-08-16T10:35:52.892302Z",
     "iopub.status.busy": "2024-08-16T10:35:52.891881Z",
     "iopub.status.idle": "2024-08-16T10:35:53.130431Z",
     "shell.execute_reply": "2024-08-16T10:35:53.129223Z"
    },
    "jupyter": {
     "outputs_hidden": false
    },
    "papermill": {
     "duration": 0.25192,
     "end_time": "2024-08-16T10:35:53.133066",
     "exception": false,
     "start_time": "2024-08-16T10:35:52.881146",
     "status": "completed"
    },
    "tags": []
   },
   "outputs": [
    {
     "data": {
      "text/html": [
       "<div>\n",
       "<style scoped>\n",
       "    .dataframe tbody tr th:only-of-type {\n",
       "        vertical-align: middle;\n",
       "    }\n",
       "\n",
       "    .dataframe tbody tr th {\n",
       "        vertical-align: top;\n",
       "    }\n",
       "\n",
       "    .dataframe thead th {\n",
       "        text-align: right;\n",
       "    }\n",
       "</style>\n",
       "<table border=\"1\" class=\"dataframe\">\n",
       "  <thead>\n",
       "    <tr style=\"text-align: right;\">\n",
       "      <th></th>\n",
       "      <th>Year</th>\n",
       "      <th>Gender</th>\n",
       "      <th>State</th>\n",
       "      <th>Count</th>\n",
       "    </tr>\n",
       "    <tr>\n",
       "      <th>Name</th>\n",
       "      <th></th>\n",
       "      <th></th>\n",
       "      <th></th>\n",
       "      <th></th>\n",
       "    </tr>\n",
       "  </thead>\n",
       "  <tbody>\n",
       "    <tr>\n",
       "      <th>Aaban</th>\n",
       "      <td>2</td>\n",
       "      <td>2</td>\n",
       "      <td>2</td>\n",
       "      <td>2</td>\n",
       "    </tr>\n",
       "    <tr>\n",
       "      <th>Aadan</th>\n",
       "      <td>4</td>\n",
       "      <td>4</td>\n",
       "      <td>4</td>\n",
       "      <td>4</td>\n",
       "    </tr>\n",
       "    <tr>\n",
       "      <th>Aadarsh</th>\n",
       "      <td>1</td>\n",
       "      <td>1</td>\n",
       "      <td>1</td>\n",
       "      <td>1</td>\n",
       "    </tr>\n",
       "    <tr>\n",
       "      <th>Aaden</th>\n",
       "      <td>196</td>\n",
       "      <td>196</td>\n",
       "      <td>196</td>\n",
       "      <td>196</td>\n",
       "    </tr>\n",
       "    <tr>\n",
       "      <th>Aadhav</th>\n",
       "      <td>1</td>\n",
       "      <td>1</td>\n",
       "      <td>1</td>\n",
       "      <td>1</td>\n",
       "    </tr>\n",
       "    <tr>\n",
       "      <th>...</th>\n",
       "      <td>...</td>\n",
       "      <td>...</td>\n",
       "      <td>...</td>\n",
       "      <td>...</td>\n",
       "    </tr>\n",
       "    <tr>\n",
       "      <th>Zyra</th>\n",
       "      <td>7</td>\n",
       "      <td>7</td>\n",
       "      <td>7</td>\n",
       "      <td>7</td>\n",
       "    </tr>\n",
       "    <tr>\n",
       "      <th>Zyrah</th>\n",
       "      <td>2</td>\n",
       "      <td>2</td>\n",
       "      <td>2</td>\n",
       "      <td>2</td>\n",
       "    </tr>\n",
       "    <tr>\n",
       "      <th>Zyren</th>\n",
       "      <td>1</td>\n",
       "      <td>1</td>\n",
       "      <td>1</td>\n",
       "      <td>1</td>\n",
       "    </tr>\n",
       "    <tr>\n",
       "      <th>Zyria</th>\n",
       "      <td>10</td>\n",
       "      <td>10</td>\n",
       "      <td>10</td>\n",
       "      <td>10</td>\n",
       "    </tr>\n",
       "    <tr>\n",
       "      <th>Zyriah</th>\n",
       "      <td>9</td>\n",
       "      <td>9</td>\n",
       "      <td>9</td>\n",
       "      <td>9</td>\n",
       "    </tr>\n",
       "  </tbody>\n",
       "</table>\n",
       "<p>17632 rows × 4 columns</p>\n",
       "</div>"
      ],
      "text/plain": [
       "         Year  Gender  State  Count\n",
       "Name                               \n",
       "Aaban       2       2      2      2\n",
       "Aadan       4       4      4      4\n",
       "Aadarsh     1       1      1      1\n",
       "Aaden     196     196    196    196\n",
       "Aadhav      1       1      1      1\n",
       "...       ...     ...    ...    ...\n",
       "Zyra        7       7      7      7\n",
       "Zyrah       2       2      2      2\n",
       "Zyren       1       1      1      1\n",
       "Zyria      10      10     10     10\n",
       "Zyriah      9       9      9      9\n",
       "\n",
       "[17632 rows x 4 columns]"
      ]
     },
     "execution_count": 10,
     "metadata": {},
     "output_type": "execute_result"
    }
   ],
   "source": [
    "names = df.groupby('Name').count()\n",
    "names"
   ]
  },
  {
   "cell_type": "markdown",
   "id": "535aa95f",
   "metadata": {
    "papermill": {
     "duration": 0.009876,
     "end_time": "2024-08-16T10:35:53.152584",
     "exception": false,
     "start_time": "2024-08-16T10:35:53.142708",
     "status": "completed"
    },
    "tags": []
   },
   "source": [
    "### Step 8. How many different names exist in the dataset?"
   ]
  },
  {
   "cell_type": "code",
   "execution_count": 11,
   "id": "37259804",
   "metadata": {
    "collapsed": false,
    "execution": {
     "iopub.execute_input": "2024-08-16T10:35:53.173488Z",
     "iopub.status.busy": "2024-08-16T10:35:53.173076Z",
     "iopub.status.idle": "2024-08-16T10:35:53.268295Z",
     "shell.execute_reply": "2024-08-16T10:35:53.267138Z"
    },
    "jupyter": {
     "outputs_hidden": false
    },
    "papermill": {
     "duration": 0.108654,
     "end_time": "2024-08-16T10:35:53.270877",
     "exception": false,
     "start_time": "2024-08-16T10:35:53.162223",
     "status": "completed"
    },
    "tags": []
   },
   "outputs": [
    {
     "data": {
      "text/plain": [
       "17632"
      ]
     },
     "execution_count": 11,
     "metadata": {},
     "output_type": "execute_result"
    }
   ],
   "source": [
    "unique_names = df['Name'].nunique()\n",
    "unique_names"
   ]
  },
  {
   "cell_type": "markdown",
   "id": "01d58d6d",
   "metadata": {
    "papermill": {
     "duration": 0.009576,
     "end_time": "2024-08-16T10:35:53.290279",
     "exception": false,
     "start_time": "2024-08-16T10:35:53.280703",
     "status": "completed"
    },
    "tags": []
   },
   "source": [
    "### Step 9. What is the name with most occurrences?"
   ]
  },
  {
   "cell_type": "code",
   "execution_count": 12,
   "id": "49f50b19",
   "metadata": {
    "execution": {
     "iopub.execute_input": "2024-08-16T10:35:53.311305Z",
     "iopub.status.busy": "2024-08-16T10:35:53.310909Z",
     "iopub.status.idle": "2024-08-16T10:35:53.318643Z",
     "shell.execute_reply": "2024-08-16T10:35:53.317656Z"
    },
    "papermill": {
     "duration": 0.02072,
     "end_time": "2024-08-16T10:35:53.320661",
     "exception": false,
     "start_time": "2024-08-16T10:35:53.299941",
     "status": "completed"
    },
    "tags": []
   },
   "outputs": [
    {
     "data": {
      "text/plain": [
       "'Riley'"
      ]
     },
     "execution_count": 12,
     "metadata": {},
     "output_type": "execute_result"
    }
   ],
   "source": [
    "names.Count.idxmax()"
   ]
  },
  {
   "cell_type": "code",
   "execution_count": 13,
   "id": "f1c5590b",
   "metadata": {
    "collapsed": false,
    "execution": {
     "iopub.execute_input": "2024-08-16T10:35:53.341874Z",
     "iopub.status.busy": "2024-08-16T10:35:53.341496Z",
     "iopub.status.idle": "2024-08-16T10:35:53.452351Z",
     "shell.execute_reply": "2024-08-16T10:35:53.451256Z"
    },
    "jupyter": {
     "outputs_hidden": false
    },
    "papermill": {
     "duration": 0.124254,
     "end_time": "2024-08-16T10:35:53.454764",
     "exception": false,
     "start_time": "2024-08-16T10:35:53.330510",
     "status": "completed"
    },
    "tags": []
   },
   "outputs": [
    {
     "data": {
      "text/plain": [
       "Name\n",
       "Riley      1112\n",
       "Avery      1080\n",
       "Jordan     1073\n",
       "Peyton     1064\n",
       "Hayden     1049\n",
       "           ... \n",
       "Terryn        1\n",
       "Yanna         1\n",
       "Zemirah       1\n",
       "Emmilyn       1\n",
       "Coalton       1\n",
       "Name: count, Length: 17632, dtype: int64"
      ]
     },
     "execution_count": 13,
     "metadata": {},
     "output_type": "execute_result"
    }
   ],
   "source": [
    "name_counts = df['Name'].value_counts()\n",
    "name_counts"
   ]
  },
  {
   "cell_type": "code",
   "execution_count": 14,
   "id": "1df2eb68",
   "metadata": {
    "execution": {
     "iopub.execute_input": "2024-08-16T10:35:53.476758Z",
     "iopub.status.busy": "2024-08-16T10:35:53.476377Z",
     "iopub.status.idle": "2024-08-16T10:35:53.585689Z",
     "shell.execute_reply": "2024-08-16T10:35:53.584356Z"
    },
    "papermill": {
     "duration": 0.122723,
     "end_time": "2024-08-16T10:35:53.587950",
     "exception": false,
     "start_time": "2024-08-16T10:35:53.465227",
     "status": "completed"
    },
    "tags": []
   },
   "outputs": [
    {
     "name": "stdout",
     "output_type": "stream",
     "text": [
      "The name with the most occurrences is 'Riley' with 1112 occurrences.\n"
     ]
    }
   ],
   "source": [
    "name_counts = df['Name'].value_counts()\n",
    "name_counts\n",
    "\n",
    "most_common_name = name_counts.idxmax()\n",
    "most_common_count = name_counts.max()\n",
    "\n",
    "print(f\"The name with the most occurrences is '{most_common_name}' with {most_common_count} occurrences.\")"
   ]
  },
  {
   "cell_type": "markdown",
   "id": "ee9fb262",
   "metadata": {
    "papermill": {
     "duration": 0.011054,
     "end_time": "2024-08-16T10:35:53.609020",
     "exception": false,
     "start_time": "2024-08-16T10:35:53.597966",
     "status": "completed"
    },
    "tags": []
   },
   "source": [
    "### Step 10. How many different names have the least occurrences?"
   ]
  },
  {
   "cell_type": "code",
   "execution_count": 15,
   "id": "05391b90",
   "metadata": {
    "execution": {
     "iopub.execute_input": "2024-08-16T10:35:53.631067Z",
     "iopub.status.busy": "2024-08-16T10:35:53.630662Z",
     "iopub.status.idle": "2024-08-16T10:35:53.638167Z",
     "shell.execute_reply": "2024-08-16T10:35:53.636982Z"
    },
    "papermill": {
     "duration": 0.02134,
     "end_time": "2024-08-16T10:35:53.640601",
     "exception": false,
     "start_time": "2024-08-16T10:35:53.619261",
     "status": "completed"
    },
    "tags": []
   },
   "outputs": [
    {
     "data": {
      "text/plain": [
       "'Aadarsh'"
      ]
     },
     "execution_count": 15,
     "metadata": {},
     "output_type": "execute_result"
    }
   ],
   "source": [
    "names.Count.idxmin()"
   ]
  },
  {
   "cell_type": "code",
   "execution_count": 16,
   "id": "dc6e9c32",
   "metadata": {
    "collapsed": false,
    "execution": {
     "iopub.execute_input": "2024-08-16T10:35:53.662672Z",
     "iopub.status.busy": "2024-08-16T10:35:53.662282Z",
     "iopub.status.idle": "2024-08-16T10:35:53.771753Z",
     "shell.execute_reply": "2024-08-16T10:35:53.770594Z"
    },
    "jupyter": {
     "outputs_hidden": false
    },
    "papermill": {
     "duration": 0.123107,
     "end_time": "2024-08-16T10:35:53.773896",
     "exception": false,
     "start_time": "2024-08-16T10:35:53.650789",
     "status": "completed"
    },
    "tags": []
   },
   "outputs": [
    {
     "name": "stdout",
     "output_type": "stream",
     "text": [
      "Number of different names with the least occurrences: 3682\n"
     ]
    }
   ],
   "source": [
    "name_counts = df['Name'].value_counts()\n",
    "name_counts\n",
    "\n",
    "min_count = name_counts.min()\n",
    "names_with_min_count = (name_counts == min_count).sum()\n",
    "\n",
    "print(f\"Number of different names with the least occurrences: {names_with_min_count}\")"
   ]
  },
  {
   "cell_type": "markdown",
   "id": "89cbfc60",
   "metadata": {
    "papermill": {
     "duration": 0.009734,
     "end_time": "2024-08-16T10:35:53.793745",
     "exception": false,
     "start_time": "2024-08-16T10:35:53.784011",
     "status": "completed"
    },
    "tags": []
   },
   "source": [
    "### Step 11. What is the median name occurrence?"
   ]
  },
  {
   "cell_type": "code",
   "execution_count": 17,
   "id": "b27dc32b",
   "metadata": {
    "collapsed": false,
    "execution": {
     "iopub.execute_input": "2024-08-16T10:35:53.816348Z",
     "iopub.status.busy": "2024-08-16T10:35:53.815814Z",
     "iopub.status.idle": "2024-08-16T10:35:53.928452Z",
     "shell.execute_reply": "2024-08-16T10:35:53.926759Z"
    },
    "jupyter": {
     "outputs_hidden": false
    },
    "papermill": {
     "duration": 0.126622,
     "end_time": "2024-08-16T10:35:53.930817",
     "exception": false,
     "start_time": "2024-08-16T10:35:53.804195",
     "status": "completed"
    },
    "tags": []
   },
   "outputs": [
    {
     "name": "stdout",
     "output_type": "stream",
     "text": [
      "The median number of occurrences for names is: 8.0\n"
     ]
    }
   ],
   "source": [
    "name_counts = df['Name'].value_counts()\n",
    "\n",
    "median_occurrence = name_counts.median()\n",
    "\n",
    "print(f\"The median number of occurrences for names is: {median_occurrence}\")"
   ]
  },
  {
   "cell_type": "code",
   "execution_count": 18,
   "id": "4a0343df",
   "metadata": {
    "execution": {
     "iopub.execute_input": "2024-08-16T10:35:53.953157Z",
     "iopub.status.busy": "2024-08-16T10:35:53.952762Z",
     "iopub.status.idle": "2024-08-16T10:35:53.961319Z",
     "shell.execute_reply": "2024-08-16T10:35:53.960214Z"
    },
    "papermill": {
     "duration": 0.022461,
     "end_time": "2024-08-16T10:35:53.963730",
     "exception": false,
     "start_time": "2024-08-16T10:35:53.941269",
     "status": "completed"
    },
    "tags": []
   },
   "outputs": [
    {
     "data": {
      "text/plain": [
       "8.0"
      ]
     },
     "execution_count": 18,
     "metadata": {},
     "output_type": "execute_result"
    }
   ],
   "source": [
    "names.Count.median()"
   ]
  },
  {
   "cell_type": "markdown",
   "id": "96562e4e",
   "metadata": {
    "papermill": {
     "duration": 0.010169,
     "end_time": "2024-08-16T10:35:53.984715",
     "exception": false,
     "start_time": "2024-08-16T10:35:53.974546",
     "status": "completed"
    },
    "tags": []
   },
   "source": [
    "### Step 12. What is the standard deviation of names?"
   ]
  },
  {
   "cell_type": "code",
   "execution_count": 19,
   "id": "0bb6fffe",
   "metadata": {
    "execution": {
     "iopub.execute_input": "2024-08-16T10:35:54.007732Z",
     "iopub.status.busy": "2024-08-16T10:35:54.007338Z",
     "iopub.status.idle": "2024-08-16T10:35:54.015483Z",
     "shell.execute_reply": "2024-08-16T10:35:54.014273Z"
    },
    "papermill": {
     "duration": 0.022866,
     "end_time": "2024-08-16T10:35:54.017835",
     "exception": false,
     "start_time": "2024-08-16T10:35:53.994969",
     "status": "completed"
    },
    "tags": []
   },
   "outputs": [
    {
     "data": {
      "text/plain": [
       "122.03"
      ]
     },
     "execution_count": 19,
     "metadata": {},
     "output_type": "execute_result"
    }
   ],
   "source": [
    "names.Count.std().round(2)"
   ]
  },
  {
   "cell_type": "code",
   "execution_count": 20,
   "id": "44294cc7",
   "metadata": {
    "collapsed": false,
    "execution": {
     "iopub.execute_input": "2024-08-16T10:35:54.040906Z",
     "iopub.status.busy": "2024-08-16T10:35:54.040519Z",
     "iopub.status.idle": "2024-08-16T10:35:54.160963Z",
     "shell.execute_reply": "2024-08-16T10:35:54.159637Z"
    },
    "jupyter": {
     "outputs_hidden": false
    },
    "papermill": {
     "duration": 0.13485,
     "end_time": "2024-08-16T10:35:54.163317",
     "exception": false,
     "start_time": "2024-08-16T10:35:54.028467",
     "status": "completed"
    },
    "tags": []
   },
   "outputs": [
    {
     "name": "stdout",
     "output_type": "stream",
     "text": [
      "The standard deviation of the number of occurrences for names is: 122.03\n"
     ]
    }
   ],
   "source": [
    "name_counts = df['Name'].value_counts()\n",
    "\n",
    "std_deviation = name_counts.std()\n",
    "rounded_std_deviation = round(std_deviation, 2)\n",
    "\n",
    "print(f\"The standard deviation of the number of occurrences for names is: {rounded_std_deviation}\")"
   ]
  },
  {
   "cell_type": "markdown",
   "id": "05925f7a",
   "metadata": {
    "papermill": {
     "duration": 0.011158,
     "end_time": "2024-08-16T10:35:54.185549",
     "exception": false,
     "start_time": "2024-08-16T10:35:54.174391",
     "status": "completed"
    },
    "tags": []
   },
   "source": [
    "### Step 13. Get a summary with the mean, min, max, std and quartiles."
   ]
  },
  {
   "cell_type": "code",
   "execution_count": 21,
   "id": "50a394cb",
   "metadata": {
    "execution": {
     "iopub.execute_input": "2024-08-16T10:35:54.208910Z",
     "iopub.status.busy": "2024-08-16T10:35:54.208163Z",
     "iopub.status.idle": "2024-08-16T10:35:54.236104Z",
     "shell.execute_reply": "2024-08-16T10:35:54.234927Z"
    },
    "papermill": {
     "duration": 0.043189,
     "end_time": "2024-08-16T10:35:54.239577",
     "exception": false,
     "start_time": "2024-08-16T10:35:54.196388",
     "status": "completed"
    },
    "tags": []
   },
   "outputs": [
    {
     "data": {
      "text/html": [
       "<div>\n",
       "<style scoped>\n",
       "    .dataframe tbody tr th:only-of-type {\n",
       "        vertical-align: middle;\n",
       "    }\n",
       "\n",
       "    .dataframe tbody tr th {\n",
       "        vertical-align: top;\n",
       "    }\n",
       "\n",
       "    .dataframe thead th {\n",
       "        text-align: right;\n",
       "    }\n",
       "</style>\n",
       "<table border=\"1\" class=\"dataframe\">\n",
       "  <thead>\n",
       "    <tr style=\"text-align: right;\">\n",
       "      <th></th>\n",
       "      <th>Year</th>\n",
       "      <th>Gender</th>\n",
       "      <th>State</th>\n",
       "      <th>Count</th>\n",
       "    </tr>\n",
       "  </thead>\n",
       "  <tbody>\n",
       "    <tr>\n",
       "      <th>count</th>\n",
       "      <td>17632.00</td>\n",
       "      <td>17632.00</td>\n",
       "      <td>17632.00</td>\n",
       "      <td>17632.00</td>\n",
       "    </tr>\n",
       "    <tr>\n",
       "      <th>mean</th>\n",
       "      <td>57.64</td>\n",
       "      <td>57.64</td>\n",
       "      <td>57.64</td>\n",
       "      <td>57.64</td>\n",
       "    </tr>\n",
       "    <tr>\n",
       "      <th>std</th>\n",
       "      <td>122.03</td>\n",
       "      <td>122.03</td>\n",
       "      <td>122.03</td>\n",
       "      <td>122.03</td>\n",
       "    </tr>\n",
       "    <tr>\n",
       "      <th>min</th>\n",
       "      <td>1.00</td>\n",
       "      <td>1.00</td>\n",
       "      <td>1.00</td>\n",
       "      <td>1.00</td>\n",
       "    </tr>\n",
       "    <tr>\n",
       "      <th>25%</th>\n",
       "      <td>2.00</td>\n",
       "      <td>2.00</td>\n",
       "      <td>2.00</td>\n",
       "      <td>2.00</td>\n",
       "    </tr>\n",
       "    <tr>\n",
       "      <th>50%</th>\n",
       "      <td>8.00</td>\n",
       "      <td>8.00</td>\n",
       "      <td>8.00</td>\n",
       "      <td>8.00</td>\n",
       "    </tr>\n",
       "    <tr>\n",
       "      <th>75%</th>\n",
       "      <td>39.00</td>\n",
       "      <td>39.00</td>\n",
       "      <td>39.00</td>\n",
       "      <td>39.00</td>\n",
       "    </tr>\n",
       "    <tr>\n",
       "      <th>max</th>\n",
       "      <td>1112.00</td>\n",
       "      <td>1112.00</td>\n",
       "      <td>1112.00</td>\n",
       "      <td>1112.00</td>\n",
       "    </tr>\n",
       "  </tbody>\n",
       "</table>\n",
       "</div>"
      ],
      "text/plain": [
       "           Year    Gender     State     Count\n",
       "count  17632.00  17632.00  17632.00  17632.00\n",
       "mean      57.64     57.64     57.64     57.64\n",
       "std      122.03    122.03    122.03    122.03\n",
       "min        1.00      1.00      1.00      1.00\n",
       "25%        2.00      2.00      2.00      2.00\n",
       "50%        8.00      8.00      8.00      8.00\n",
       "75%       39.00     39.00     39.00     39.00\n",
       "max     1112.00   1112.00   1112.00   1112.00"
      ]
     },
     "execution_count": 21,
     "metadata": {},
     "output_type": "execute_result"
    }
   ],
   "source": [
    "names.describe().round(2)"
   ]
  },
  {
   "cell_type": "code",
   "execution_count": 22,
   "id": "ca2b9496",
   "metadata": {
    "collapsed": false,
    "execution": {
     "iopub.execute_input": "2024-08-16T10:35:54.264309Z",
     "iopub.status.busy": "2024-08-16T10:35:54.263575Z",
     "iopub.status.idle": "2024-08-16T10:35:54.378751Z",
     "shell.execute_reply": "2024-08-16T10:35:54.377186Z"
    },
    "jupyter": {
     "outputs_hidden": false
    },
    "papermill": {
     "duration": 0.130456,
     "end_time": "2024-08-16T10:35:54.381362",
     "exception": false,
     "start_time": "2024-08-16T10:35:54.250906",
     "status": "completed"
    },
    "tags": []
   },
   "outputs": [
    {
     "name": "stdout",
     "output_type": "stream",
     "text": [
      "Summary of name occurrences:\n",
      "Mean: 57.64\n",
      "Min: 1.00\n",
      "Max: 1112.00\n",
      "Std: 122.03\n",
      "25th Percentile: 2.00\n",
      "50th Percentile (Median): 8.00\n",
      "75th Percentile: 39.00\n"
     ]
    }
   ],
   "source": [
    "name_counts = df['Name'].value_counts()\n",
    "\n",
    "summary = {\n",
    "    'Mean': name_counts.mean(),\n",
    "    'Min': name_counts.min(),\n",
    "    'Max': name_counts.max(),\n",
    "    'Std': name_counts.std(),\n",
    "    '25th Percentile': name_counts.quantile(0.25),\n",
    "    '50th Percentile (Median)': name_counts.median(),\n",
    "    '75th Percentile': name_counts.quantile(0.75)\n",
    "}\n",
    "\n",
    "print(\"Summary of name occurrences:\")\n",
    "for stat, value in summary.items():\n",
    "    print(f\"{stat}: {value:.2f}\")"
   ]
  }
 ],
 "metadata": {
  "anaconda-cloud": {},
  "kaggle": {
   "accelerator": "none",
   "dataSources": [
    {
     "datasetId": 5478686,
     "sourceId": 9080950,
     "sourceType": "datasetVersion"
    }
   ],
   "dockerImageVersionId": 30746,
   "isGpuEnabled": false,
   "isInternetEnabled": false,
   "language": "python",
   "sourceType": "notebook"
  },
  "kernelspec": {
   "display_name": "Python 3",
   "language": "python",
   "name": "python3"
  },
  "language_info": {
   "codemirror_mode": {
    "name": "ipython",
    "version": 3
   },
   "file_extension": ".py",
   "mimetype": "text/x-python",
   "name": "python",
   "nbconvert_exporter": "python",
   "pygments_lexer": "ipython3",
   "version": "3.10.13"
  },
  "papermill": {
   "default_parameters": {},
   "duration": 7.91462,
   "end_time": "2024-08-16T10:35:54.913471",
   "environment_variables": {},
   "exception": null,
   "input_path": "__notebook__.ipynb",
   "output_path": "__notebook__.ipynb",
   "parameters": {},
   "start_time": "2024-08-16T10:35:46.998851",
   "version": "2.5.0"
  }
 },
 "nbformat": 4,
 "nbformat_minor": 5
}
